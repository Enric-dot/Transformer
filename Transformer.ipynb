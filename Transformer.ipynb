{
  "nbformat": 4,
  "nbformat_minor": 0,
  "metadata": {
    "colab": {
      "provenance": [],
      "authorship_tag": "ABX9TyNLfigb+zs5EDlDBLW2V0K5",
      "include_colab_link": true
    },
    "kernelspec": {
      "name": "python3",
      "display_name": "Python 3"
    },
    "language_info": {
      "name": "python"
    }
  },
  "cells": [
    {
      "cell_type": "markdown",
      "metadata": {
        "id": "view-in-github",
        "colab_type": "text"
      },
      "source": [
        "<a href=\"https://colab.research.google.com/github/Enric-dot/Transformer/blob/main/Transformer.ipynb\" target=\"_parent\"><img src=\"https://colab.research.google.com/assets/colab-badge.svg\" alt=\"Open In Colab\"/></a>"
      ]
    },
    {
      "cell_type": "code",
      "execution_count": null,
      "metadata": {
        "id": "0eyuWl6lviZm"
      },
      "outputs": [],
      "source": [
        "import tensorflow as tf\n",
        "import numpy as np\n",
        "\n",
        "from enum import Enum"
      ]
    },
    {
      "cell_type": "code",
      "source": [
        "print(tf.__version__)\n",
        "\n"
      ],
      "metadata": {
        "colab": {
          "base_uri": "https://localhost:8080/"
        },
        "id": "rusfHTiQw1aj",
        "outputId": "3dadd2c8-5e94-43d6-edec-369946034da4"
      },
      "execution_count": null,
      "outputs": [
        {
          "output_type": "stream",
          "name": "stdout",
          "text": [
            "2.17.0\n"
          ]
        }
      ]
    },
    {
      "cell_type": "code",
      "source": [
        "class encodeType(Enum):\n",
        "  one_hot = '1'\n",
        "\n",
        "class Embeder:\n",
        "\n",
        "  def __init__(self, collection):\n",
        "    self.collection = collection\n",
        "    self.collection.sort()\n",
        "    self.collection_length = len(collection)\n",
        "    self.one_hot_colection = self.encode_collection(encodeType.one_hot)\n",
        "    self.inputs = np.zeros()\n",
        "    self.outputs = np.aeros()\n",
        "\n",
        "  def set_collection(self, collection):\n",
        "    self.collection = collection.sort()\n",
        "\n",
        "  def get_collection(self):\n",
        "    return self.collection\n",
        "\n",
        "  def encode_collection(self, encode_type: encodeType):\n",
        "    if encode_type == encodeType.one_hot:\n",
        "      d = {}\n",
        "      for element, index in zip(self.collection, range(0,self.collection_length)):\n",
        "        d[element] = np.zeros(self.collection_length)\n",
        "        d[element][index] = 1\n",
        "      return d\n",
        "    else:\n",
        "      return None\n",
        "\n",
        "  def generate_inputs_outputs():\n",
        "    self.inputs = np.zeros()\n",
        "    self.outputs = np.aeros()\n",
        "\n",
        "    return self.inputs, self.outputs\n",
        "\n",
        "  def get_embbedings(inputs, outputs):\n",
        "\n",
        "\n",
        "\n",
        "\n",
        "\n",
        "\n",
        "\n"
      ],
      "metadata": {
        "id": "bTeQ1bqtxMlq"
      },
      "execution_count": null,
      "outputs": []
    },
    {
      "cell_type": "code",
      "source": [
        "c = [\"car\",\"people\", \"bike\", \"motorCycle\"]\n",
        "e = Embeder(c)\n",
        "print(e.one_hot_colection)"
      ],
      "metadata": {
        "colab": {
          "base_uri": "https://localhost:8080/"
        },
        "id": "-MdIFbS99OHq",
        "outputId": "670a03bb-3710-47ed-9519-c7646f5f8f89"
      },
      "execution_count": null,
      "outputs": [
        {
          "output_type": "stream",
          "name": "stdout",
          "text": [
            "range(0, 4)\n",
            "['bike', 'car', 'motorCycle', 'people']\n",
            "{'bike': array([1., 0., 0., 0.]), 'car': array([0., 1., 0., 0.]), 'motorCycle': array([0., 0., 1., 0.]), 'people': array([0., 0., 0., 1.])}\n"
          ]
        }
      ]
    }
  ]
}